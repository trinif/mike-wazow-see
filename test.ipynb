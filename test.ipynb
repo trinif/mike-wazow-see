{
 "cells": [
  {
   "cell_type": "markdown",
   "id": "792debe4",
   "metadata": {},
   "source": [
    "First Experiments with Color Swapping\n",
    "... following along with Aakash Agrawal's Medium blog post: https://medium.com/data-science/color-swapping-techniques-in-image-processing-fe594b3ca31a\n",
    "\n",
    "Goal:\n",
    "- swap the green portions in the Penn map with orange"
   ]
  },
  {
   "cell_type": "code",
   "execution_count": 6,
   "id": "702b91cc",
   "metadata": {},
   "outputs": [
    {
     "ename": "ModuleNotFoundError",
     "evalue": "No module named 'cv2'",
     "output_type": "error",
     "traceback": [
      "\u001b[31m---------------------------------------------------------------------------\u001b[39m",
      "\u001b[31mModuleNotFoundError\u001b[39m                       Traceback (most recent call last)",
      "\u001b[36mCell\u001b[39m\u001b[36m \u001b[39m\u001b[32mIn[6]\u001b[39m\u001b[32m, line 1\u001b[39m\n\u001b[32m----> \u001b[39m\u001b[32m1\u001b[39m \u001b[38;5;28;01mimport\u001b[39;00m\u001b[38;5;250m \u001b[39m\u001b[34;01mcv2\u001b[39;00m\n\u001b[32m      2\u001b[39m \u001b[38;5;28;01mimport\u001b[39;00m\u001b[38;5;250m \u001b[39m\u001b[34;01mmatplotlib\u001b[39;00m\u001b[34;01m.\u001b[39;00m\u001b[34;01mpyplot\u001b[39;00m\u001b[38;5;250m \u001b[39m\u001b[38;5;28;01mas\u001b[39;00m\u001b[38;5;250m \u001b[39m\u001b[34;01mplt\u001b[39;00m\n",
      "\u001b[31mModuleNotFoundError\u001b[39m: No module named 'cv2'"
     ]
    }
   ],
   "source": [
    "import cv2\n",
    "import matplotlib.pyplot as plt"
   ]
  },
  {
   "cell_type": "code",
   "execution_count": null,
   "id": "a57571bf",
   "metadata": {},
   "outputs": [],
   "source": [
    "# original image\n",
    "img = cv2.imread('images/penn_map.png')\n",
    "img = cv2.cvtColor(img, cv2.COLOR_BGR2RGB)  # OpenCV, by default, uses BGR space\n",
    "plt.imshow(img)"
   ]
  },
  {
   "cell_type": "markdown",
   "id": "dca7f107",
   "metadata": {},
   "source": [
    "First Attempt: Swapping w/in the RGB space"
   ]
  },
  {
   "cell_type": "code",
   "execution_count": null,
   "id": "6710dbaf",
   "metadata": {},
   "outputs": [],
   "source": [
    "# create a copy of the original image\n",
    "img_rgb = img.copy()\n",
    "\n",
    "# extract channels of the rgb image\n",
    "r = img_rgb[:,:,0]  # first : takes all the rows, second : takes all the columns, 0 takes the first channel (R)\n",
    "g = img_rgb[:,:,1]\n",
    "b = img_rgb[:,:,2]\n",
    "\n",
    "# to make things more orange (starting from green), increase the red pixel values by 100\n",
    "r = r + 100    \n",
    "\n",
    "# if pixel values become > 255, subtract 255 (clipping, but in a circular fashion; 255 + x goes to x instead of 255)\n",
    "cond = r[:, :] > 255 # boolean 2D arr\n",
    "r[cond] = r[cond] - 255 \n",
    "\n",
    "# assign the modified channel to image\n",
    "img_rgb[:,:,0] = r\n",
    "\n",
    "plt.imshow(img_rgb)"
   ]
  }
 ],
 "metadata": {
  "kernelspec": {
   "display_name": "base",
   "language": "python",
   "name": "python3"
  },
  "language_info": {
   "codemirror_mode": {
    "name": "ipython",
    "version": 3
   },
   "file_extension": ".py",
   "mimetype": "text/x-python",
   "name": "python",
   "nbconvert_exporter": "python",
   "pygments_lexer": "ipython3",
   "version": "3.13.5"
  }
 },
 "nbformat": 4,
 "nbformat_minor": 5
}
